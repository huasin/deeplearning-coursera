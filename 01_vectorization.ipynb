{
  "nbformat": 4,
  "nbformat_minor": 0,
  "metadata": {
    "colab": {
      "name": "01_vectorization.ipynb",
      "provenance": [],
      "authorship_tag": "ABX9TyPabdVrQEdxrETyYG3q/V0i",
      "include_colab_link": true
    },
    "kernelspec": {
      "name": "python3",
      "display_name": "Python 3"
    }
  },
  "cells": [
    {
      "cell_type": "markdown",
      "metadata": {
        "id": "view-in-github",
        "colab_type": "text"
      },
      "source": [
        "<a href=\"https://colab.research.google.com/github/huasin/deeplearning-coursera/blob/master/01_vectorization.ipynb\" target=\"_parent\"><img src=\"https://colab.research.google.com/assets/colab-badge.svg\" alt=\"Open In Colab\"/></a>"
      ]
    },
    {
      "cell_type": "code",
      "metadata": {
        "id": "5NjU3kHb8zdX",
        "colab_type": "code",
        "colab": {}
      },
      "source": [
        "import numpy as np\n",
        "import time"
      ],
      "execution_count": 1,
      "outputs": []
    },
    {
      "cell_type": "code",
      "metadata": {
        "id": "5IvnY7qE8_YS",
        "colab_type": "code",
        "colab": {
          "base_uri": "https://localhost:8080/",
          "height": 34
        },
        "outputId": "19508fe9-4f6e-4c91-d747-3ed17a9ac59b"
      },
      "source": [
        "a = np.array([1,2,3,4])\n",
        "print(a)"
      ],
      "execution_count": 3,
      "outputs": [
        {
          "output_type": "stream",
          "text": [
            "[1 2 3 4]\n"
          ],
          "name": "stdout"
        }
      ]
    },
    {
      "cell_type": "code",
      "metadata": {
        "id": "cmI4hZr19LGU",
        "colab_type": "code",
        "colab": {
          "base_uri": "https://localhost:8080/",
          "height": 86
        },
        "outputId": "c734ab7f-79f0-4c65-e1cd-5ca5f211723a"
      },
      "source": [
        "a = np.random.rand(1000000)\n",
        "b = np.random.rand(1000000)\n",
        "\n",
        "tic = time.time()\n",
        "c = np.dot(a,b)\n",
        "toc = time.time()\n",
        "\n",
        "print(c)\n",
        "print(\"Vectorized version: \" + str(1000*(toc-tic)) + \" ms\")\n",
        "\n",
        "c = 0\n",
        "tic = time.time()\n",
        "for i in range(len(a)):\n",
        "  c = c + a[i] * b[i]\n",
        "toc = time.time()\n",
        "\n",
        "print(c)\n",
        "print(\"Non Vectorized version: \" + str(1000*(toc-tic)) + \" ms\")"
      ],
      "execution_count": 15,
      "outputs": [
        {
          "output_type": "stream",
          "text": [
            "250374.83802805556\n",
            "Vectorized version: 1.4002323150634766 ms\n",
            "250374.83802805722\n",
            "Non Vectorized version: 648.7681865692139 ms\n"
          ],
          "name": "stdout"
        }
      ]
    },
    {
      "cell_type": "code",
      "metadata": {
        "id": "jJlJ1Os89Yc3",
        "colab_type": "code",
        "colab": {}
      },
      "source": [
        ""
      ],
      "execution_count": null,
      "outputs": []
    }
  ]
}